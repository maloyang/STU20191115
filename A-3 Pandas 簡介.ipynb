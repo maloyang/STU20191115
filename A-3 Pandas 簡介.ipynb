{
 "cells": [
  {
   "cell_type": "markdown",
   "metadata": {},
   "source": [
    "# Pandas 簡介"
   ]
  },
  {
   "cell_type": "markdown",
   "metadata": {},
   "source": [
    "## Pandas 是 Python 裡面被用來作資料分析及整理最常用的套件。"
   ]
  },
  {
   "cell_type": "markdown",
   "metadata": {},
   "source": [
    "### 這一份筆記主要說明以下重點：\n",
    "\n",
    "* 資料結構及其基本操作\n",
    "  - Series\n",
    "  - DataFrame\n",
    "* 網路資料存取\n",
    "* 資料視覺化\n",
    "\n",
    "參考資料：\n",
    "\n",
    "* [Python Data Analysis Library](http://pandas.pydata.org/)\n",
    "* [Pandas Cookbook](http://pandas.pydata.org/pandas-docs/version/0.18.0/cookbook.html)\n",
    "* [Pandas 入門介紹](https://github.com/Wei1234c/Introduction_to_Pandas)\n",
    "* [Financial Time Series](https://github.com/yhilpisch/py4fi/blob/master/ipython3/06_Financial_Time_Series.ipynb)\n",
    "* [Pandas API references](http://pandas.pydata.org/pandas-docs/stable/api.html#api-dataframe-stats)"
   ]
  },
  {
   "cell_type": "code",
   "execution_count": 2,
   "metadata": {},
   "outputs": [
    {
     "data": {
      "text/plain": [
       "'0.23.4'"
      ]
     },
     "execution_count": 2,
     "metadata": {},
     "output_type": "execute_result"
    }
   ],
   "source": [
    "import pandas as pd\n",
    "\n",
    "pd.__version__"
   ]
  },
  {
   "cell_type": "code",
   "execution_count": 3,
   "metadata": {},
   "outputs": [],
   "source": [
    "%matplotlib inline\n",
    "\n",
    "import numpy as np\n",
    "from datetime import datetime"
   ]
  },
  {
   "cell_type": "markdown",
   "metadata": {},
   "source": [
    "## Pandas 的資料結構"
   ]
  },
  {
   "cell_type": "markdown",
   "metadata": {},
   "source": [
    "### Series"
   ]
  },
  {
   "cell_type": "code",
   "execution_count": 4,
   "metadata": {},
   "outputs": [
    {
     "data": {
      "text/plain": [
       "0    1\n",
       "1    2\n",
       "2    3\n",
       "3    4\n",
       "4    5\n",
       "dtype: int64"
      ]
     },
     "execution_count": 4,
     "metadata": {},
     "output_type": "execute_result"
    }
   ],
   "source": [
    "s = pd.Series([1, 2, 3, 4, 5])\n",
    "s"
   ]
  },
  {
   "cell_type": "code",
   "execution_count": 5,
   "metadata": {},
   "outputs": [
    {
     "data": {
      "text/plain": [
       "0    1\n",
       "1    2\n",
       "2    3\n",
       "3    4\n",
       "4    5\n",
       "dtype: int64"
      ]
     },
     "execution_count": 5,
     "metadata": {},
     "output_type": "execute_result"
    }
   ],
   "source": [
    "u = pd.Series([1, 2, 3, 4, 5])\n",
    "u"
   ]
  },
  {
   "cell_type": "code",
   "execution_count": 6,
   "metadata": {},
   "outputs": [
    {
     "data": {
      "text/plain": [
       "0     2\n",
       "1     4\n",
       "2     6\n",
       "3     8\n",
       "4    10\n",
       "dtype: int64"
      ]
     },
     "execution_count": 6,
     "metadata": {},
     "output_type": "execute_result"
    }
   ],
   "source": [
    "s+u"
   ]
  },
  {
   "cell_type": "markdown",
   "metadata": {},
   "source": [
    "#### Series 跟 ndarray 有什麼不同呢？"
   ]
  },
  {
   "cell_type": "code",
   "execution_count": 7,
   "metadata": {},
   "outputs": [
    {
     "data": {
      "text/plain": [
       "array([1, 2, 3, 4, 5], dtype=int64)"
      ]
     },
     "execution_count": 7,
     "metadata": {},
     "output_type": "execute_result"
    }
   ],
   "source": [
    "s.values"
   ]
  },
  {
   "cell_type": "code",
   "execution_count": 8,
   "metadata": {},
   "outputs": [
    {
     "data": {
      "text/plain": [
       "RangeIndex(start=0, stop=5, step=1)"
      ]
     },
     "execution_count": 8,
     "metadata": {},
     "output_type": "execute_result"
    }
   ],
   "source": [
    "s.index"
   ]
  },
  {
   "cell_type": "markdown",
   "metadata": {},
   "source": [
    "#### index 可以在創建 Series 時指定"
   ]
  },
  {
   "cell_type": "code",
   "execution_count": 9,
   "metadata": {},
   "outputs": [],
   "source": [
    "s = pd.Series(range(5), index=list('abcde'))"
   ]
  },
  {
   "cell_type": "code",
   "execution_count": 10,
   "metadata": {},
   "outputs": [
    {
     "data": {
      "text/plain": [
       "a    0\n",
       "b    1\n",
       "c    2\n",
       "d    3\n",
       "e    4\n",
       "dtype: int64"
      ]
     },
     "execution_count": 10,
     "metadata": {},
     "output_type": "execute_result"
    }
   ],
   "source": [
    "s"
   ]
  },
  {
   "cell_type": "code",
   "execution_count": 11,
   "metadata": {},
   "outputs": [],
   "source": [
    "u.index = list('bcdef')"
   ]
  },
  {
   "cell_type": "code",
   "execution_count": 12,
   "metadata": {},
   "outputs": [
    {
     "data": {
      "text/plain": [
       "b    1\n",
       "c    2\n",
       "d    3\n",
       "e    4\n",
       "f    5\n",
       "dtype: int64"
      ]
     },
     "execution_count": 12,
     "metadata": {},
     "output_type": "execute_result"
    }
   ],
   "source": [
    "u"
   ]
  },
  {
   "cell_type": "code",
   "execution_count": 13,
   "metadata": {},
   "outputs": [
    {
     "data": {
      "text/plain": [
       "a    NaN\n",
       "b    2.0\n",
       "c    4.0\n",
       "d    6.0\n",
       "e    8.0\n",
       "f    NaN\n",
       "dtype: float64"
      ]
     },
     "execution_count": 13,
     "metadata": {},
     "output_type": "execute_result"
    }
   ],
   "source": [
    "s+u"
   ]
  },
  {
   "cell_type": "markdown",
   "metadata": {},
   "source": [
    "#### index 也可以在創建完 Series 後指定"
   ]
  },
  {
   "cell_type": "code",
   "execution_count": 14,
   "metadata": {},
   "outputs": [
    {
     "data": {
      "text/plain": [
       "f    0\n",
       "g    1\n",
       "h    2\n",
       "i    3\n",
       "j    4\n",
       "dtype: int64"
      ]
     },
     "execution_count": 14,
     "metadata": {},
     "output_type": "execute_result"
    }
   ],
   "source": [
    "s.index = list('fghij')\n",
    "s"
   ]
  },
  {
   "cell_type": "markdown",
   "metadata": {},
   "source": [
    "#### 什麼是 reindex？"
   ]
  },
  {
   "cell_type": "code",
   "execution_count": 15,
   "metadata": {},
   "outputs": [
    {
     "data": {
      "text/plain": [
       "h    2.0\n",
       "i    3.0\n",
       "j    4.0\n",
       "a    NaN\n",
       "b    NaN\n",
       "c    NaN\n",
       "d    NaN\n",
       "dtype: float64"
      ]
     },
     "execution_count": 15,
     "metadata": {},
     "output_type": "execute_result"
    }
   ],
   "source": [
    "s.reindex(list('hijabcd'))"
   ]
  },
  {
   "cell_type": "code",
   "execution_count": 16,
   "metadata": {},
   "outputs": [
    {
     "data": {
      "text/plain": [
       "f    0\n",
       "g    1\n",
       "h    2\n",
       "i    3\n",
       "j    4\n",
       "dtype: int64"
      ]
     },
     "execution_count": 16,
     "metadata": {},
     "output_type": "execute_result"
    }
   ],
   "source": [
    "s"
   ]
  },
  {
   "cell_type": "code",
   "execution_count": 17,
   "metadata": {},
   "outputs": [
    {
     "data": {
      "text/plain": [
       "dtype('int64')"
      ]
     },
     "execution_count": 17,
     "metadata": {},
     "output_type": "execute_result"
    }
   ],
   "source": [
    "s.dtype"
   ]
  },
  {
   "cell_type": "code",
   "execution_count": 18,
   "metadata": {},
   "outputs": [
    {
     "data": {
      "text/plain": [
       "(5,)"
      ]
     },
     "execution_count": 18,
     "metadata": {},
     "output_type": "execute_result"
    }
   ],
   "source": [
    "s.shape"
   ]
  },
  {
   "cell_type": "code",
   "execution_count": 19,
   "metadata": {},
   "outputs": [
    {
     "data": {
      "text/plain": [
       "1"
      ]
     },
     "execution_count": 19,
     "metadata": {},
     "output_type": "execute_result"
    }
   ],
   "source": [
    "s.ndim"
   ]
  },
  {
   "cell_type": "code",
   "execution_count": 26,
   "metadata": {},
   "outputs": [
    {
     "data": {
      "text/plain": [
       "f    0\n",
       "g    1\n",
       "h    2\n",
       "i    3\n",
       "j    4\n",
       "dtype: int64"
      ]
     },
     "execution_count": 26,
     "metadata": {},
     "output_type": "execute_result"
    }
   ],
   "source": [
    "s"
   ]
  },
  {
   "cell_type": "code",
   "execution_count": 27,
   "metadata": {},
   "outputs": [
    {
     "data": {
      "text/plain": [
       "3"
      ]
     },
     "execution_count": 27,
     "metadata": {},
     "output_type": "execute_result"
    }
   ],
   "source": [
    "s['i']"
   ]
  },
  {
   "cell_type": "code",
   "execution_count": 28,
   "metadata": {},
   "outputs": [
    {
     "data": {
      "text/plain": [
       "f    0\n",
       "g    1\n",
       "h    2\n",
       "dtype: int64"
      ]
     },
     "execution_count": 28,
     "metadata": {},
     "output_type": "execute_result"
    }
   ],
   "source": [
    "s['f':'h']"
   ]
  },
  {
   "cell_type": "markdown",
   "metadata": {},
   "source": [
    "### DataFrame"
   ]
  },
  {
   "cell_type": "code",
   "execution_count": 29,
   "metadata": {},
   "outputs": [],
   "source": [
    "data = np.random.randn(10, 4)"
   ]
  },
  {
   "cell_type": "code",
   "execution_count": 30,
   "metadata": {},
   "outputs": [
    {
     "data": {
      "text/html": [
       "<div>\n",
       "<style scoped>\n",
       "    .dataframe tbody tr th:only-of-type {\n",
       "        vertical-align: middle;\n",
       "    }\n",
       "\n",
       "    .dataframe tbody tr th {\n",
       "        vertical-align: top;\n",
       "    }\n",
       "\n",
       "    .dataframe thead th {\n",
       "        text-align: right;\n",
       "    }\n",
       "</style>\n",
       "<table border=\"1\" class=\"dataframe\">\n",
       "  <thead>\n",
       "    <tr style=\"text-align: right;\">\n",
       "      <th></th>\n",
       "      <th>0</th>\n",
       "      <th>1</th>\n",
       "      <th>2</th>\n",
       "      <th>3</th>\n",
       "    </tr>\n",
       "  </thead>\n",
       "  <tbody>\n",
       "    <tr>\n",
       "      <th>0</th>\n",
       "      <td>0.017341</td>\n",
       "      <td>-0.509292</td>\n",
       "      <td>0.323202</td>\n",
       "      <td>2.280254</td>\n",
       "    </tr>\n",
       "    <tr>\n",
       "      <th>1</th>\n",
       "      <td>0.667636</td>\n",
       "      <td>0.771886</td>\n",
       "      <td>-1.021116</td>\n",
       "      <td>0.592380</td>\n",
       "    </tr>\n",
       "    <tr>\n",
       "      <th>2</th>\n",
       "      <td>-0.344540</td>\n",
       "      <td>0.712854</td>\n",
       "      <td>-1.045454</td>\n",
       "      <td>-0.574233</td>\n",
       "    </tr>\n",
       "    <tr>\n",
       "      <th>3</th>\n",
       "      <td>-1.219426</td>\n",
       "      <td>2.261405</td>\n",
       "      <td>0.614903</td>\n",
       "      <td>1.392151</td>\n",
       "    </tr>\n",
       "    <tr>\n",
       "      <th>4</th>\n",
       "      <td>0.442346</td>\n",
       "      <td>1.658667</td>\n",
       "      <td>-0.814581</td>\n",
       "      <td>-0.404168</td>\n",
       "    </tr>\n",
       "    <tr>\n",
       "      <th>5</th>\n",
       "      <td>0.800603</td>\n",
       "      <td>1.290343</td>\n",
       "      <td>-0.347460</td>\n",
       "      <td>-0.416515</td>\n",
       "    </tr>\n",
       "    <tr>\n",
       "      <th>6</th>\n",
       "      <td>0.403678</td>\n",
       "      <td>-0.550889</td>\n",
       "      <td>1.800699</td>\n",
       "      <td>1.266145</td>\n",
       "    </tr>\n",
       "    <tr>\n",
       "      <th>7</th>\n",
       "      <td>0.173590</td>\n",
       "      <td>1.302377</td>\n",
       "      <td>0.325026</td>\n",
       "      <td>-1.873474</td>\n",
       "    </tr>\n",
       "    <tr>\n",
       "      <th>8</th>\n",
       "      <td>-0.072158</td>\n",
       "      <td>-0.471311</td>\n",
       "      <td>-0.149136</td>\n",
       "      <td>-0.313090</td>\n",
       "    </tr>\n",
       "    <tr>\n",
       "      <th>9</th>\n",
       "      <td>0.087755</td>\n",
       "      <td>-0.765110</td>\n",
       "      <td>1.003228</td>\n",
       "      <td>-0.418311</td>\n",
       "    </tr>\n",
       "  </tbody>\n",
       "</table>\n",
       "</div>"
      ],
      "text/plain": [
       "          0         1         2         3\n",
       "0  0.017341 -0.509292  0.323202  2.280254\n",
       "1  0.667636  0.771886 -1.021116  0.592380\n",
       "2 -0.344540  0.712854 -1.045454 -0.574233\n",
       "3 -1.219426  2.261405  0.614903  1.392151\n",
       "4  0.442346  1.658667 -0.814581 -0.404168\n",
       "5  0.800603  1.290343 -0.347460 -0.416515\n",
       "6  0.403678 -0.550889  1.800699  1.266145\n",
       "7  0.173590  1.302377  0.325026 -1.873474\n",
       "8 -0.072158 -0.471311 -0.149136 -0.313090\n",
       "9  0.087755 -0.765110  1.003228 -0.418311"
      ]
     },
     "execution_count": 30,
     "metadata": {},
     "output_type": "execute_result"
    }
   ],
   "source": [
    "df = pd.DataFrame(data)\n",
    "df"
   ]
  },
  {
   "cell_type": "code",
   "execution_count": 31,
   "metadata": {},
   "outputs": [
    {
     "data": {
      "text/html": [
       "<div>\n",
       "<style scoped>\n",
       "    .dataframe tbody tr th:only-of-type {\n",
       "        vertical-align: middle;\n",
       "    }\n",
       "\n",
       "    .dataframe tbody tr th {\n",
       "        vertical-align: top;\n",
       "    }\n",
       "\n",
       "    .dataframe thead th {\n",
       "        text-align: right;\n",
       "    }\n",
       "</style>\n",
       "<table border=\"1\" class=\"dataframe\">\n",
       "  <thead>\n",
       "    <tr style=\"text-align: right;\">\n",
       "      <th></th>\n",
       "      <th>No1</th>\n",
       "      <th>No2</th>\n",
       "      <th>No3</th>\n",
       "      <th>No4</th>\n",
       "    </tr>\n",
       "  </thead>\n",
       "  <tbody>\n",
       "    <tr>\n",
       "      <th>0</th>\n",
       "      <td>0.017341</td>\n",
       "      <td>-0.509292</td>\n",
       "      <td>0.323202</td>\n",
       "      <td>2.280254</td>\n",
       "    </tr>\n",
       "    <tr>\n",
       "      <th>1</th>\n",
       "      <td>0.667636</td>\n",
       "      <td>0.771886</td>\n",
       "      <td>-1.021116</td>\n",
       "      <td>0.592380</td>\n",
       "    </tr>\n",
       "    <tr>\n",
       "      <th>2</th>\n",
       "      <td>-0.344540</td>\n",
       "      <td>0.712854</td>\n",
       "      <td>-1.045454</td>\n",
       "      <td>-0.574233</td>\n",
       "    </tr>\n",
       "    <tr>\n",
       "      <th>3</th>\n",
       "      <td>-1.219426</td>\n",
       "      <td>2.261405</td>\n",
       "      <td>0.614903</td>\n",
       "      <td>1.392151</td>\n",
       "    </tr>\n",
       "    <tr>\n",
       "      <th>4</th>\n",
       "      <td>0.442346</td>\n",
       "      <td>1.658667</td>\n",
       "      <td>-0.814581</td>\n",
       "      <td>-0.404168</td>\n",
       "    </tr>\n",
       "    <tr>\n",
       "      <th>5</th>\n",
       "      <td>0.800603</td>\n",
       "      <td>1.290343</td>\n",
       "      <td>-0.347460</td>\n",
       "      <td>-0.416515</td>\n",
       "    </tr>\n",
       "    <tr>\n",
       "      <th>6</th>\n",
       "      <td>0.403678</td>\n",
       "      <td>-0.550889</td>\n",
       "      <td>1.800699</td>\n",
       "      <td>1.266145</td>\n",
       "    </tr>\n",
       "    <tr>\n",
       "      <th>7</th>\n",
       "      <td>0.173590</td>\n",
       "      <td>1.302377</td>\n",
       "      <td>0.325026</td>\n",
       "      <td>-1.873474</td>\n",
       "    </tr>\n",
       "    <tr>\n",
       "      <th>8</th>\n",
       "      <td>-0.072158</td>\n",
       "      <td>-0.471311</td>\n",
       "      <td>-0.149136</td>\n",
       "      <td>-0.313090</td>\n",
       "    </tr>\n",
       "    <tr>\n",
       "      <th>9</th>\n",
       "      <td>0.087755</td>\n",
       "      <td>-0.765110</td>\n",
       "      <td>1.003228</td>\n",
       "      <td>-0.418311</td>\n",
       "    </tr>\n",
       "  </tbody>\n",
       "</table>\n",
       "</div>"
      ],
      "text/plain": [
       "        No1       No2       No3       No4\n",
       "0  0.017341 -0.509292  0.323202  2.280254\n",
       "1  0.667636  0.771886 -1.021116  0.592380\n",
       "2 -0.344540  0.712854 -1.045454 -0.574233\n",
       "3 -1.219426  2.261405  0.614903  1.392151\n",
       "4  0.442346  1.658667 -0.814581 -0.404168\n",
       "5  0.800603  1.290343 -0.347460 -0.416515\n",
       "6  0.403678 -0.550889  1.800699  1.266145\n",
       "7  0.173590  1.302377  0.325026 -1.873474\n",
       "8 -0.072158 -0.471311 -0.149136 -0.313090\n",
       "9  0.087755 -0.765110  1.003228 -0.418311"
      ]
     },
     "execution_count": 31,
     "metadata": {},
     "output_type": "execute_result"
    }
   ],
   "source": [
    "df.columns = ['No1', 'No2', 'No3', 'No4']\n",
    "df"
   ]
  },
  {
   "cell_type": "code",
   "execution_count": 32,
   "metadata": {},
   "outputs": [
    {
     "data": {
      "text/html": [
       "<div>\n",
       "<style scoped>\n",
       "    .dataframe tbody tr th:only-of-type {\n",
       "        vertical-align: middle;\n",
       "    }\n",
       "\n",
       "    .dataframe tbody tr th {\n",
       "        vertical-align: top;\n",
       "    }\n",
       "\n",
       "    .dataframe thead th {\n",
       "        text-align: right;\n",
       "    }\n",
       "</style>\n",
       "<table border=\"1\" class=\"dataframe\">\n",
       "  <thead>\n",
       "    <tr style=\"text-align: right;\">\n",
       "      <th></th>\n",
       "      <th>No1</th>\n",
       "      <th>No2</th>\n",
       "      <th>No3</th>\n",
       "      <th>No4</th>\n",
       "    </tr>\n",
       "  </thead>\n",
       "  <tbody>\n",
       "    <tr>\n",
       "      <th>2016-01-01</th>\n",
       "      <td>0.017341</td>\n",
       "      <td>-0.509292</td>\n",
       "      <td>0.323202</td>\n",
       "      <td>2.280254</td>\n",
       "    </tr>\n",
       "    <tr>\n",
       "      <th>2016-01-02</th>\n",
       "      <td>0.667636</td>\n",
       "      <td>0.771886</td>\n",
       "      <td>-1.021116</td>\n",
       "      <td>0.592380</td>\n",
       "    </tr>\n",
       "    <tr>\n",
       "      <th>2016-01-03</th>\n",
       "      <td>-0.344540</td>\n",
       "      <td>0.712854</td>\n",
       "      <td>-1.045454</td>\n",
       "      <td>-0.574233</td>\n",
       "    </tr>\n",
       "    <tr>\n",
       "      <th>2016-01-04</th>\n",
       "      <td>-1.219426</td>\n",
       "      <td>2.261405</td>\n",
       "      <td>0.614903</td>\n",
       "      <td>1.392151</td>\n",
       "    </tr>\n",
       "    <tr>\n",
       "      <th>2016-01-05</th>\n",
       "      <td>0.442346</td>\n",
       "      <td>1.658667</td>\n",
       "      <td>-0.814581</td>\n",
       "      <td>-0.404168</td>\n",
       "    </tr>\n",
       "    <tr>\n",
       "      <th>2016-01-06</th>\n",
       "      <td>0.800603</td>\n",
       "      <td>1.290343</td>\n",
       "      <td>-0.347460</td>\n",
       "      <td>-0.416515</td>\n",
       "    </tr>\n",
       "    <tr>\n",
       "      <th>2016-01-07</th>\n",
       "      <td>0.403678</td>\n",
       "      <td>-0.550889</td>\n",
       "      <td>1.800699</td>\n",
       "      <td>1.266145</td>\n",
       "    </tr>\n",
       "    <tr>\n",
       "      <th>2016-01-08</th>\n",
       "      <td>0.173590</td>\n",
       "      <td>1.302377</td>\n",
       "      <td>0.325026</td>\n",
       "      <td>-1.873474</td>\n",
       "    </tr>\n",
       "    <tr>\n",
       "      <th>2016-01-09</th>\n",
       "      <td>-0.072158</td>\n",
       "      <td>-0.471311</td>\n",
       "      <td>-0.149136</td>\n",
       "      <td>-0.313090</td>\n",
       "    </tr>\n",
       "    <tr>\n",
       "      <th>2016-01-10</th>\n",
       "      <td>0.087755</td>\n",
       "      <td>-0.765110</td>\n",
       "      <td>1.003228</td>\n",
       "      <td>-0.418311</td>\n",
       "    </tr>\n",
       "  </tbody>\n",
       "</table>\n",
       "</div>"
      ],
      "text/plain": [
       "                 No1       No2       No3       No4\n",
       "2016-01-01  0.017341 -0.509292  0.323202  2.280254\n",
       "2016-01-02  0.667636  0.771886 -1.021116  0.592380\n",
       "2016-01-03 -0.344540  0.712854 -1.045454 -0.574233\n",
       "2016-01-04 -1.219426  2.261405  0.614903  1.392151\n",
       "2016-01-05  0.442346  1.658667 -0.814581 -0.404168\n",
       "2016-01-06  0.800603  1.290343 -0.347460 -0.416515\n",
       "2016-01-07  0.403678 -0.550889  1.800699  1.266145\n",
       "2016-01-08  0.173590  1.302377  0.325026 -1.873474\n",
       "2016-01-09 -0.072158 -0.471311 -0.149136 -0.313090\n",
       "2016-01-10  0.087755 -0.765110  1.003228 -0.418311"
      ]
     },
     "execution_count": 32,
     "metadata": {},
     "output_type": "execute_result"
    }
   ],
   "source": [
    "df.index = pd.date_range('2016-01-01', periods=10)\n",
    "df"
   ]
  },
  {
   "cell_type": "code",
   "execution_count": 34,
   "metadata": {},
   "outputs": [
    {
     "data": {
      "text/plain": [
       "No1    0.800603\n",
       "No2    1.290343\n",
       "No3   -0.347460\n",
       "No4   -0.416515\n",
       "Name: 2016-01-06 00:00:00, dtype: float64"
      ]
     },
     "execution_count": 34,
     "metadata": {},
     "output_type": "execute_result"
    }
   ],
   "source": [
    "df.loc['2016-01-06']"
   ]
  },
  {
   "cell_type": "code",
   "execution_count": 35,
   "metadata": {},
   "outputs": [
    {
     "data": {
      "text/html": [
       "<div>\n",
       "<style scoped>\n",
       "    .dataframe tbody tr th:only-of-type {\n",
       "        vertical-align: middle;\n",
       "    }\n",
       "\n",
       "    .dataframe tbody tr th {\n",
       "        vertical-align: top;\n",
       "    }\n",
       "\n",
       "    .dataframe thead th {\n",
       "        text-align: right;\n",
       "    }\n",
       "</style>\n",
       "<table border=\"1\" class=\"dataframe\">\n",
       "  <thead>\n",
       "    <tr style=\"text-align: right;\">\n",
       "      <th></th>\n",
       "      <th>No1</th>\n",
       "      <th>No2</th>\n",
       "      <th>No3</th>\n",
       "      <th>No4</th>\n",
       "    </tr>\n",
       "  </thead>\n",
       "  <tbody>\n",
       "    <tr>\n",
       "      <th>2016-01-06</th>\n",
       "      <td>0.800603</td>\n",
       "      <td>1.290343</td>\n",
       "      <td>-0.347460</td>\n",
       "      <td>-0.416515</td>\n",
       "    </tr>\n",
       "    <tr>\n",
       "      <th>2016-01-07</th>\n",
       "      <td>0.403678</td>\n",
       "      <td>-0.550889</td>\n",
       "      <td>1.800699</td>\n",
       "      <td>1.266145</td>\n",
       "    </tr>\n",
       "    <tr>\n",
       "      <th>2016-01-08</th>\n",
       "      <td>0.173590</td>\n",
       "      <td>1.302377</td>\n",
       "      <td>0.325026</td>\n",
       "      <td>-1.873474</td>\n",
       "    </tr>\n",
       "  </tbody>\n",
       "</table>\n",
       "</div>"
      ],
      "text/plain": [
       "                 No1       No2       No3       No4\n",
       "2016-01-06  0.800603  1.290343 -0.347460 -0.416515\n",
       "2016-01-07  0.403678 -0.550889  1.800699  1.266145\n",
       "2016-01-08  0.173590  1.302377  0.325026 -1.873474"
      ]
     },
     "execution_count": 35,
     "metadata": {},
     "output_type": "execute_result"
    }
   ],
   "source": [
    "df['2016-01-06':'2016-01-08']"
   ]
  },
  {
   "cell_type": "code",
   "execution_count": null,
   "metadata": {},
   "outputs": [],
   "source": [
    "df.drop(datetime(2016, 1, 3), inplace=True)\n",
    "df"
   ]
  },
  {
   "cell_type": "code",
   "execution_count": null,
   "metadata": {},
   "outputs": [],
   "source": [
    "df.index=range(9)\n",
    "df"
   ]
  },
  {
   "cell_type": "code",
   "execution_count": 33,
   "metadata": {},
   "outputs": [
    {
     "data": {
      "text/plain": [
       "No1    0.667636\n",
       "No2    0.771886\n",
       "No3   -1.021116\n",
       "No4    0.592380\n",
       "Name: 2016-01-02 00:00:00, dtype: float64"
      ]
     },
     "execution_count": 33,
     "metadata": {},
     "output_type": "execute_result"
    }
   ],
   "source": [
    "df.iloc[1]"
   ]
  },
  {
   "cell_type": "code",
   "execution_count": null,
   "metadata": {},
   "outputs": [],
   "source": [
    "df.drop(4)"
   ]
  },
  {
   "cell_type": "code",
   "execution_count": 39,
   "metadata": {},
   "outputs": [
    {
     "data": {
      "text/html": [
       "<div>\n",
       "<style scoped>\n",
       "    .dataframe tbody tr th:only-of-type {\n",
       "        vertical-align: middle;\n",
       "    }\n",
       "\n",
       "    .dataframe tbody tr th {\n",
       "        vertical-align: top;\n",
       "    }\n",
       "\n",
       "    .dataframe thead th {\n",
       "        text-align: right;\n",
       "    }\n",
       "</style>\n",
       "<table border=\"1\" class=\"dataframe\">\n",
       "  <thead>\n",
       "    <tr style=\"text-align: right;\">\n",
       "      <th></th>\n",
       "      <th>No1</th>\n",
       "      <th>No2</th>\n",
       "      <th>No3</th>\n",
       "      <th>No4</th>\n",
       "    </tr>\n",
       "  </thead>\n",
       "  <tbody>\n",
       "    <tr>\n",
       "      <th>2016-01-01</th>\n",
       "      <td>0.017341</td>\n",
       "      <td>-0.509292</td>\n",
       "      <td>0.323202</td>\n",
       "      <td>2.280254</td>\n",
       "    </tr>\n",
       "    <tr>\n",
       "      <th>2016-01-02</th>\n",
       "      <td>0.667636</td>\n",
       "      <td>0.771886</td>\n",
       "      <td>-1.021116</td>\n",
       "      <td>0.592380</td>\n",
       "    </tr>\n",
       "    <tr>\n",
       "      <th>2016-01-03</th>\n",
       "      <td>-0.344540</td>\n",
       "      <td>0.712854</td>\n",
       "      <td>-1.045454</td>\n",
       "      <td>-0.574233</td>\n",
       "    </tr>\n",
       "    <tr>\n",
       "      <th>2016-01-04</th>\n",
       "      <td>-1.219426</td>\n",
       "      <td>2.261405</td>\n",
       "      <td>0.614903</td>\n",
       "      <td>1.392151</td>\n",
       "    </tr>\n",
       "    <tr>\n",
       "      <th>2016-01-05</th>\n",
       "      <td>0.442346</td>\n",
       "      <td>1.658667</td>\n",
       "      <td>-0.814581</td>\n",
       "      <td>-0.404168</td>\n",
       "    </tr>\n",
       "    <tr>\n",
       "      <th>2016-01-06</th>\n",
       "      <td>0.800603</td>\n",
       "      <td>1.290343</td>\n",
       "      <td>-0.347460</td>\n",
       "      <td>-0.416515</td>\n",
       "    </tr>\n",
       "    <tr>\n",
       "      <th>2016-01-07</th>\n",
       "      <td>0.403678</td>\n",
       "      <td>-0.550889</td>\n",
       "      <td>1.800699</td>\n",
       "      <td>1.266145</td>\n",
       "    </tr>\n",
       "    <tr>\n",
       "      <th>2016-01-08</th>\n",
       "      <td>0.173590</td>\n",
       "      <td>1.302377</td>\n",
       "      <td>0.325026</td>\n",
       "      <td>-1.873474</td>\n",
       "    </tr>\n",
       "    <tr>\n",
       "      <th>2016-01-09</th>\n",
       "      <td>-0.072158</td>\n",
       "      <td>-0.471311</td>\n",
       "      <td>-0.149136</td>\n",
       "      <td>-0.313090</td>\n",
       "    </tr>\n",
       "    <tr>\n",
       "      <th>2016-01-10</th>\n",
       "      <td>0.087755</td>\n",
       "      <td>-0.765110</td>\n",
       "      <td>1.003228</td>\n",
       "      <td>-0.418311</td>\n",
       "    </tr>\n",
       "  </tbody>\n",
       "</table>\n",
       "</div>"
      ],
      "text/plain": [
       "                 No1       No2       No3       No4\n",
       "2016-01-01  0.017341 -0.509292  0.323202  2.280254\n",
       "2016-01-02  0.667636  0.771886 -1.021116  0.592380\n",
       "2016-01-03 -0.344540  0.712854 -1.045454 -0.574233\n",
       "2016-01-04 -1.219426  2.261405  0.614903  1.392151\n",
       "2016-01-05  0.442346  1.658667 -0.814581 -0.404168\n",
       "2016-01-06  0.800603  1.290343 -0.347460 -0.416515\n",
       "2016-01-07  0.403678 -0.550889  1.800699  1.266145\n",
       "2016-01-08  0.173590  1.302377  0.325026 -1.873474\n",
       "2016-01-09 -0.072158 -0.471311 -0.149136 -0.313090\n",
       "2016-01-10  0.087755 -0.765110  1.003228 -0.418311"
      ]
     },
     "execution_count": 39,
     "metadata": {},
     "output_type": "execute_result"
    }
   ],
   "source": [
    "df"
   ]
  },
  {
   "cell_type": "code",
   "execution_count": 40,
   "metadata": {},
   "outputs": [
    {
     "data": {
      "text/plain": [
       "2016-01-01    0.017341\n",
       "2016-01-02    0.667636\n",
       "2016-01-03   -0.344540\n",
       "2016-01-04   -1.219426\n",
       "2016-01-05    0.442346\n",
       "2016-01-06    0.800603\n",
       "2016-01-07    0.403678\n",
       "2016-01-08    0.173590\n",
       "2016-01-09   -0.072158\n",
       "2016-01-10    0.087755\n",
       "Freq: D, Name: No1, dtype: float64"
      ]
     },
     "execution_count": 40,
     "metadata": {},
     "output_type": "execute_result"
    }
   ],
   "source": [
    "df['No1']"
   ]
  },
  {
   "cell_type": "code",
   "execution_count": 41,
   "metadata": {},
   "outputs": [
    {
     "data": {
      "text/html": [
       "<div>\n",
       "<style scoped>\n",
       "    .dataframe tbody tr th:only-of-type {\n",
       "        vertical-align: middle;\n",
       "    }\n",
       "\n",
       "    .dataframe tbody tr th {\n",
       "        vertical-align: top;\n",
       "    }\n",
       "\n",
       "    .dataframe thead th {\n",
       "        text-align: right;\n",
       "    }\n",
       "</style>\n",
       "<table border=\"1\" class=\"dataframe\">\n",
       "  <thead>\n",
       "    <tr style=\"text-align: right;\">\n",
       "      <th></th>\n",
       "      <th>No1</th>\n",
       "    </tr>\n",
       "  </thead>\n",
       "  <tbody>\n",
       "    <tr>\n",
       "      <th>2016-01-01</th>\n",
       "      <td>0.017341</td>\n",
       "    </tr>\n",
       "    <tr>\n",
       "      <th>2016-01-02</th>\n",
       "      <td>0.667636</td>\n",
       "    </tr>\n",
       "    <tr>\n",
       "      <th>2016-01-03</th>\n",
       "      <td>-0.344540</td>\n",
       "    </tr>\n",
       "    <tr>\n",
       "      <th>2016-01-04</th>\n",
       "      <td>-1.219426</td>\n",
       "    </tr>\n",
       "    <tr>\n",
       "      <th>2016-01-05</th>\n",
       "      <td>0.442346</td>\n",
       "    </tr>\n",
       "    <tr>\n",
       "      <th>2016-01-06</th>\n",
       "      <td>0.800603</td>\n",
       "    </tr>\n",
       "    <tr>\n",
       "      <th>2016-01-07</th>\n",
       "      <td>0.403678</td>\n",
       "    </tr>\n",
       "    <tr>\n",
       "      <th>2016-01-08</th>\n",
       "      <td>0.173590</td>\n",
       "    </tr>\n",
       "    <tr>\n",
       "      <th>2016-01-09</th>\n",
       "      <td>-0.072158</td>\n",
       "    </tr>\n",
       "    <tr>\n",
       "      <th>2016-01-10</th>\n",
       "      <td>0.087755</td>\n",
       "    </tr>\n",
       "  </tbody>\n",
       "</table>\n",
       "</div>"
      ],
      "text/plain": [
       "                 No1\n",
       "2016-01-01  0.017341\n",
       "2016-01-02  0.667636\n",
       "2016-01-03 -0.344540\n",
       "2016-01-04 -1.219426\n",
       "2016-01-05  0.442346\n",
       "2016-01-06  0.800603\n",
       "2016-01-07  0.403678\n",
       "2016-01-08  0.173590\n",
       "2016-01-09 -0.072158\n",
       "2016-01-10  0.087755"
      ]
     },
     "execution_count": 41,
     "metadata": {},
     "output_type": "execute_result"
    }
   ],
   "source": [
    "df[['No1']]"
   ]
  },
  {
   "cell_type": "code",
   "execution_count": 42,
   "metadata": {},
   "outputs": [
    {
     "data": {
      "text/html": [
       "<div>\n",
       "<style scoped>\n",
       "    .dataframe tbody tr th:only-of-type {\n",
       "        vertical-align: middle;\n",
       "    }\n",
       "\n",
       "    .dataframe tbody tr th {\n",
       "        vertical-align: top;\n",
       "    }\n",
       "\n",
       "    .dataframe thead th {\n",
       "        text-align: right;\n",
       "    }\n",
       "</style>\n",
       "<table border=\"1\" class=\"dataframe\">\n",
       "  <thead>\n",
       "    <tr style=\"text-align: right;\">\n",
       "      <th></th>\n",
       "      <th>No1</th>\n",
       "      <th>No3</th>\n",
       "    </tr>\n",
       "  </thead>\n",
       "  <tbody>\n",
       "    <tr>\n",
       "      <th>2016-01-01</th>\n",
       "      <td>0.017341</td>\n",
       "      <td>0.323202</td>\n",
       "    </tr>\n",
       "    <tr>\n",
       "      <th>2016-01-02</th>\n",
       "      <td>0.667636</td>\n",
       "      <td>-1.021116</td>\n",
       "    </tr>\n",
       "    <tr>\n",
       "      <th>2016-01-03</th>\n",
       "      <td>-0.344540</td>\n",
       "      <td>-1.045454</td>\n",
       "    </tr>\n",
       "    <tr>\n",
       "      <th>2016-01-04</th>\n",
       "      <td>-1.219426</td>\n",
       "      <td>0.614903</td>\n",
       "    </tr>\n",
       "    <tr>\n",
       "      <th>2016-01-05</th>\n",
       "      <td>0.442346</td>\n",
       "      <td>-0.814581</td>\n",
       "    </tr>\n",
       "    <tr>\n",
       "      <th>2016-01-06</th>\n",
       "      <td>0.800603</td>\n",
       "      <td>-0.347460</td>\n",
       "    </tr>\n",
       "    <tr>\n",
       "      <th>2016-01-07</th>\n",
       "      <td>0.403678</td>\n",
       "      <td>1.800699</td>\n",
       "    </tr>\n",
       "    <tr>\n",
       "      <th>2016-01-08</th>\n",
       "      <td>0.173590</td>\n",
       "      <td>0.325026</td>\n",
       "    </tr>\n",
       "    <tr>\n",
       "      <th>2016-01-09</th>\n",
       "      <td>-0.072158</td>\n",
       "      <td>-0.149136</td>\n",
       "    </tr>\n",
       "    <tr>\n",
       "      <th>2016-01-10</th>\n",
       "      <td>0.087755</td>\n",
       "      <td>1.003228</td>\n",
       "    </tr>\n",
       "  </tbody>\n",
       "</table>\n",
       "</div>"
      ],
      "text/plain": [
       "                 No1       No3\n",
       "2016-01-01  0.017341  0.323202\n",
       "2016-01-02  0.667636 -1.021116\n",
       "2016-01-03 -0.344540 -1.045454\n",
       "2016-01-04 -1.219426  0.614903\n",
       "2016-01-05  0.442346 -0.814581\n",
       "2016-01-06  0.800603 -0.347460\n",
       "2016-01-07  0.403678  1.800699\n",
       "2016-01-08  0.173590  0.325026\n",
       "2016-01-09 -0.072158 -0.149136\n",
       "2016-01-10  0.087755  1.003228"
      ]
     },
     "execution_count": 42,
     "metadata": {},
     "output_type": "execute_result"
    }
   ],
   "source": [
    "df[['No1','No3']]"
   ]
  },
  {
   "cell_type": "markdown",
   "metadata": {},
   "source": [
    "## 使用 Pandas 作資料存取\n",
    "\n",
    "### 這一部分包括底下幾個重點：\n",
    "\n",
    "* read_csv() 的使用\n",
    "* read_html() 的使用\n",
    "* 如何抓取股市資訊？\n",
    "\n",
    "底下練習一下將 [台灣證券交易所 - 加權股價指數歷史資料](http://www.tse.com.tw/ch/trading/indices/MI_5MINS_HIST/MI_5MINS_HIST.php#) 的資料轉成 DataFrame。"
   ]
  },
  {
   "cell_type": "markdown",
   "metadata": {},
   "source": [
    "### 使用 read_csv() 讀取資料\n",
    "\n",
    "參考連結：[pandas.read_csv](http://pandas.pydata.org/pandas-docs/stable/generated/pandas.read_csv.html)"
   ]
  },
  {
   "cell_type": "code",
   "execution_count": null,
   "metadata": {},
   "outputs": [],
   "source": [
    "df = pd.read_csv(\"data/MI_5MINS_HIST10603.csv\", encoding=\"Big5\", header=1)"
   ]
  },
  {
   "cell_type": "code",
   "execution_count": null,
   "metadata": {},
   "outputs": [],
   "source": [
    "df"
   ]
  },
  {
   "cell_type": "code",
   "execution_count": null,
   "metadata": {},
   "outputs": [],
   "source": [
    "df.drop(df.index[len(df.index)-1], inplace=True)\n",
    "df"
   ]
  },
  {
   "cell_type": "markdown",
   "metadata": {},
   "source": [
    "### 使用 read_html() 讀取資料\n",
    "\n",
    "參考連結：[pandas.read_html](http://pandas.pydata.org/pandas-docs/stable/generated/pandas.read_html.html)"
   ]
  },
  {
   "cell_type": "code",
   "execution_count": null,
   "metadata": {},
   "outputs": [],
   "source": [
    "import requests\n",
    "from bs4 import BeautifulSoup"
   ]
  },
  {
   "cell_type": "code",
   "execution_count": null,
   "metadata": {},
   "outputs": [],
   "source": [
    "r = requests.get(\"http://www.tse.com.tw/ch/trading/indices/MI_5MINS_HIST/MI_5MINS_HIST.php\")\n",
    "r.encoding = 'Big5'"
   ]
  },
  {
   "cell_type": "code",
   "execution_count": null,
   "metadata": {},
   "outputs": [],
   "source": [
    "soup = BeautifulSoup(r.text, \"lxml\")\n",
    "tables = soup.select(\"table.board_trad\")\n",
    "tables"
   ]
  },
  {
   "cell_type": "code",
   "execution_count": null,
   "metadata": {},
   "outputs": [],
   "source": [
    "type(tables[0])"
   ]
  },
  {
   "cell_type": "code",
   "execution_count": null,
   "metadata": {},
   "outputs": [],
   "source": [
    "df_list = pd.read_html(str(tables[0]), header=1)"
   ]
  },
  {
   "cell_type": "code",
   "execution_count": null,
   "metadata": {},
   "outputs": [],
   "source": [
    "df_list[0]"
   ]
  },
  {
   "cell_type": "markdown",
   "metadata": {},
   "source": [
    "### 使用 Pandas 讀取股價資訊\n",
    "\n",
    "參考資料：[pandas-datareadre 說明文件](https://pandas-datareader.readthedocs.io/en/latest/)"
   ]
  },
  {
   "cell_type": "code",
   "execution_count": 43,
   "metadata": {},
   "outputs": [],
   "source": [
    "import pandas_datareader.data as web\n",
    "from datetime import datetime"
   ]
  },
  {
   "cell_type": "code",
   "execution_count": 44,
   "metadata": {},
   "outputs": [
    {
     "data": {
      "text/html": [
       "<div>\n",
       "<style scoped>\n",
       "    .dataframe tbody tr th:only-of-type {\n",
       "        vertical-align: middle;\n",
       "    }\n",
       "\n",
       "    .dataframe tbody tr th {\n",
       "        vertical-align: top;\n",
       "    }\n",
       "\n",
       "    .dataframe thead th {\n",
       "        text-align: right;\n",
       "    }\n",
       "</style>\n",
       "<table border=\"1\" class=\"dataframe\">\n",
       "  <thead>\n",
       "    <tr style=\"text-align: right;\">\n",
       "      <th></th>\n",
       "      <th>High</th>\n",
       "      <th>Low</th>\n",
       "      <th>Open</th>\n",
       "      <th>Close</th>\n",
       "      <th>Volume</th>\n",
       "      <th>Adj Close</th>\n",
       "    </tr>\n",
       "    <tr>\n",
       "      <th>Date</th>\n",
       "      <th></th>\n",
       "      <th></th>\n",
       "      <th></th>\n",
       "      <th></th>\n",
       "      <th></th>\n",
       "      <th></th>\n",
       "    </tr>\n",
       "  </thead>\n",
       "  <tbody>\n",
       "    <tr>\n",
       "      <th>2018-01-02</th>\n",
       "      <td>322.109985</td>\n",
       "      <td>311.000000</td>\n",
       "      <td>312.000000</td>\n",
       "      <td>320.529999</td>\n",
       "      <td>4352200</td>\n",
       "      <td>320.529999</td>\n",
       "    </tr>\n",
       "    <tr>\n",
       "      <th>2018-01-03</th>\n",
       "      <td>325.250000</td>\n",
       "      <td>315.549988</td>\n",
       "      <td>321.000000</td>\n",
       "      <td>317.250000</td>\n",
       "      <td>4521500</td>\n",
       "      <td>317.250000</td>\n",
       "    </tr>\n",
       "    <tr>\n",
       "      <th>2018-01-04</th>\n",
       "      <td>318.549988</td>\n",
       "      <td>305.679993</td>\n",
       "      <td>312.869995</td>\n",
       "      <td>314.619995</td>\n",
       "      <td>9946300</td>\n",
       "      <td>314.619995</td>\n",
       "    </tr>\n",
       "    <tr>\n",
       "      <th>2018-01-05</th>\n",
       "      <td>317.239990</td>\n",
       "      <td>312.000000</td>\n",
       "      <td>316.619995</td>\n",
       "      <td>316.579987</td>\n",
       "      <td>4591200</td>\n",
       "      <td>316.579987</td>\n",
       "    </tr>\n",
       "    <tr>\n",
       "      <th>2018-01-08</th>\n",
       "      <td>337.019989</td>\n",
       "      <td>315.500000</td>\n",
       "      <td>316.000000</td>\n",
       "      <td>336.410004</td>\n",
       "      <td>9859400</td>\n",
       "      <td>336.410004</td>\n",
       "    </tr>\n",
       "  </tbody>\n",
       "</table>\n",
       "</div>"
      ],
      "text/plain": [
       "                  High         Low        Open       Close   Volume  \\\n",
       "Date                                                                  \n",
       "2018-01-02  322.109985  311.000000  312.000000  320.529999  4352200   \n",
       "2018-01-03  325.250000  315.549988  321.000000  317.250000  4521500   \n",
       "2018-01-04  318.549988  305.679993  312.869995  314.619995  9946300   \n",
       "2018-01-05  317.239990  312.000000  316.619995  316.579987  4591200   \n",
       "2018-01-08  337.019989  315.500000  316.000000  336.410004  9859400   \n",
       "\n",
       "             Adj Close  \n",
       "Date                    \n",
       "2018-01-02  320.529999  \n",
       "2018-01-03  317.250000  \n",
       "2018-01-04  314.619995  \n",
       "2018-01-05  316.579987  \n",
       "2018-01-08  336.410004  "
      ]
     },
     "execution_count": 44,
     "metadata": {},
     "output_type": "execute_result"
    }
   ],
   "source": [
    "df = web.DataReader(\"TSLA\", 'yahoo', datetime(2018,1,1))\n",
    "df.head()"
   ]
  },
  {
   "cell_type": "code",
   "execution_count": 45,
   "metadata": {},
   "outputs": [
    {
     "data": {
      "text/html": [
       "<div>\n",
       "<style scoped>\n",
       "    .dataframe tbody tr th:only-of-type {\n",
       "        vertical-align: middle;\n",
       "    }\n",
       "\n",
       "    .dataframe tbody tr th {\n",
       "        vertical-align: top;\n",
       "    }\n",
       "\n",
       "    .dataframe thead th {\n",
       "        text-align: right;\n",
       "    }\n",
       "</style>\n",
       "<table border=\"1\" class=\"dataframe\">\n",
       "  <thead>\n",
       "    <tr style=\"text-align: right;\">\n",
       "      <th></th>\n",
       "      <th>High</th>\n",
       "      <th>Low</th>\n",
       "      <th>Open</th>\n",
       "      <th>Close</th>\n",
       "      <th>Volume</th>\n",
       "      <th>Adj Close</th>\n",
       "    </tr>\n",
       "    <tr>\n",
       "      <th>Date</th>\n",
       "      <th></th>\n",
       "      <th></th>\n",
       "      <th></th>\n",
       "      <th></th>\n",
       "      <th></th>\n",
       "      <th></th>\n",
       "    </tr>\n",
       "  </thead>\n",
       "  <tbody>\n",
       "    <tr>\n",
       "      <th>2019-02-27</th>\n",
       "      <td>316.299988</td>\n",
       "      <td>300.549988</td>\n",
       "      <td>301.779999</td>\n",
       "      <td>314.739990</td>\n",
       "      <td>11183900</td>\n",
       "      <td>314.739990</td>\n",
       "    </tr>\n",
       "    <tr>\n",
       "      <th>2019-02-28</th>\n",
       "      <td>320.000000</td>\n",
       "      <td>310.809998</td>\n",
       "      <td>318.920013</td>\n",
       "      <td>319.880005</td>\n",
       "      <td>10520700</td>\n",
       "      <td>319.880005</td>\n",
       "    </tr>\n",
       "    <tr>\n",
       "      <th>2019-03-01</th>\n",
       "      <td>307.130005</td>\n",
       "      <td>291.899994</td>\n",
       "      <td>306.940002</td>\n",
       "      <td>294.790009</td>\n",
       "      <td>22911400</td>\n",
       "      <td>294.790009</td>\n",
       "    </tr>\n",
       "    <tr>\n",
       "      <th>2019-03-04</th>\n",
       "      <td>299.000000</td>\n",
       "      <td>282.779999</td>\n",
       "      <td>298.119995</td>\n",
       "      <td>285.359985</td>\n",
       "      <td>17096800</td>\n",
       "      <td>285.359985</td>\n",
       "    </tr>\n",
       "    <tr>\n",
       "      <th>2019-03-05</th>\n",
       "      <td>284.000000</td>\n",
       "      <td>270.100006</td>\n",
       "      <td>282.000000</td>\n",
       "      <td>276.540009</td>\n",
       "      <td>18742000</td>\n",
       "      <td>276.540009</td>\n",
       "    </tr>\n",
       "  </tbody>\n",
       "</table>\n",
       "</div>"
      ],
      "text/plain": [
       "                  High         Low        Open       Close    Volume  \\\n",
       "Date                                                                   \n",
       "2019-02-27  316.299988  300.549988  301.779999  314.739990  11183900   \n",
       "2019-02-28  320.000000  310.809998  318.920013  319.880005  10520700   \n",
       "2019-03-01  307.130005  291.899994  306.940002  294.790009  22911400   \n",
       "2019-03-04  299.000000  282.779999  298.119995  285.359985  17096800   \n",
       "2019-03-05  284.000000  270.100006  282.000000  276.540009  18742000   \n",
       "\n",
       "             Adj Close  \n",
       "Date                    \n",
       "2019-02-27  314.739990  \n",
       "2019-02-28  319.880005  \n",
       "2019-03-01  294.790009  \n",
       "2019-03-04  285.359985  \n",
       "2019-03-05  276.540009  "
      ]
     },
     "execution_count": 45,
     "metadata": {},
     "output_type": "execute_result"
    }
   ],
   "source": [
    "df.tail()"
   ]
  },
  {
   "cell_type": "code",
   "execution_count": 46,
   "metadata": {},
   "outputs": [
    {
     "data": {
      "text/plain": [
       "<matplotlib.axes._subplots.AxesSubplot at 0x20744890b00>"
      ]
     },
     "execution_count": 46,
     "metadata": {},
     "output_type": "execute_result"
    },
    {
     "data": {
      "image/png": "[encoded data removed]",
      "text/plain": [
       "<Figure size 432x288 with 1 Axes>"
      ]
     },
     "metadata": {
      "needs_background": "light"
     },
     "output_type": "display_data"
    }
   ],
   "source": [
    "df['Close'].plot()"
   ]
  },
  {
   "cell_type": "code",
   "execution_count": 47,
   "metadata": {},
   "outputs": [
    {
     "data": {
      "text/html": [
       "<div>\n",
       "<style scoped>\n",
       "    .dataframe tbody tr th:only-of-type {\n",
       "        vertical-align: middle;\n",
       "    }\n",
       "\n",
       "    .dataframe tbody tr th {\n",
       "        vertical-align: top;\n",
       "    }\n",
       "\n",
       "    .dataframe thead th {\n",
       "        text-align: right;\n",
       "    }\n",
       "</style>\n",
       "<table border=\"1\" class=\"dataframe\">\n",
       "  <thead>\n",
       "    <tr style=\"text-align: right;\">\n",
       "      <th></th>\n",
       "      <th>High</th>\n",
       "      <th>Low</th>\n",
       "      <th>Open</th>\n",
       "      <th>Close</th>\n",
       "      <th>Volume</th>\n",
       "      <th>Adj Close</th>\n",
       "    </tr>\n",
       "  </thead>\n",
       "  <tbody>\n",
       "    <tr>\n",
       "      <th>count</th>\n",
       "      <td>294.000000</td>\n",
       "      <td>294.000000</td>\n",
       "      <td>294.000000</td>\n",
       "      <td>294.000000</td>\n",
       "      <td>2.940000e+02</td>\n",
       "      <td>294.000000</td>\n",
       "    </tr>\n",
       "    <tr>\n",
       "      <th>mean</th>\n",
       "      <td>322.633844</td>\n",
       "      <td>309.736734</td>\n",
       "      <td>316.283537</td>\n",
       "      <td>316.451361</td>\n",
       "      <td>8.586550e+06</td>\n",
       "      <td>316.451361</td>\n",
       "    </tr>\n",
       "    <tr>\n",
       "      <th>std</th>\n",
       "      <td>27.783457</td>\n",
       "      <td>27.533607</td>\n",
       "      <td>27.404674</td>\n",
       "      <td>27.533084</td>\n",
       "      <td>4.892061e+06</td>\n",
       "      <td>27.533084</td>\n",
       "    </tr>\n",
       "    <tr>\n",
       "      <th>min</th>\n",
       "      <td>260.329987</td>\n",
       "      <td>244.589996</td>\n",
       "      <td>252.779999</td>\n",
       "      <td>250.559998</td>\n",
       "      <td>3.080700e+06</td>\n",
       "      <td>250.559998</td>\n",
       "    </tr>\n",
       "    <tr>\n",
       "      <th>25%</th>\n",
       "      <td>302.924995</td>\n",
       "      <td>291.412491</td>\n",
       "      <td>297.700012</td>\n",
       "      <td>296.814995</td>\n",
       "      <td>5.570000e+06</td>\n",
       "      <td>296.814995</td>\n",
       "    </tr>\n",
       "    <tr>\n",
       "      <th>50%</th>\n",
       "      <td>322.024994</td>\n",
       "      <td>308.904999</td>\n",
       "      <td>315.689987</td>\n",
       "      <td>315.910004</td>\n",
       "      <td>7.135900e+06</td>\n",
       "      <td>315.910004</td>\n",
       "    </tr>\n",
       "    <tr>\n",
       "      <th>75%</th>\n",
       "      <td>347.147499</td>\n",
       "      <td>333.237511</td>\n",
       "      <td>339.655006</td>\n",
       "      <td>339.727501</td>\n",
       "      <td>9.507275e+06</td>\n",
       "      <td>339.727501</td>\n",
       "    </tr>\n",
       "    <tr>\n",
       "      <th>max</th>\n",
       "      <td>387.459991</td>\n",
       "      <td>367.119995</td>\n",
       "      <td>375.000000</td>\n",
       "      <td>379.570007</td>\n",
       "      <td>3.364970e+07</td>\n",
       "      <td>379.570007</td>\n",
       "    </tr>\n",
       "  </tbody>\n",
       "</table>\n",
       "</div>"
      ],
      "text/plain": [
       "             High         Low        Open       Close        Volume  \\\n",
       "count  294.000000  294.000000  294.000000  294.000000  2.940000e+02   \n",
       "mean   322.633844  309.736734  316.283537  316.451361  8.586550e+06   \n",
       "std     27.783457   27.533607   27.404674   27.533084  4.892061e+06   \n",
       "min    260.329987  244.589996  252.779999  250.559998  3.080700e+06   \n",
       "25%    302.924995  291.412491  297.700012  296.814995  5.570000e+06   \n",
       "50%    322.024994  308.904999  315.689987  315.910004  7.135900e+06   \n",
       "75%    347.147499  333.237511  339.655006  339.727501  9.507275e+06   \n",
       "max    387.459991  367.119995  375.000000  379.570007  3.364970e+07   \n",
       "\n",
       "        Adj Close  \n",
       "count  294.000000  \n",
       "mean   316.451361  \n",
       "std     27.533084  \n",
       "min    250.559998  \n",
       "25%    296.814995  \n",
       "50%    315.910004  \n",
       "75%    339.727501  \n",
       "max    379.570007  "
      ]
     },
     "execution_count": 47,
     "metadata": {},
     "output_type": "execute_result"
    }
   ],
   "source": [
    "df.describe()"
   ]
  },
  {
   "cell_type": "code",
   "execution_count": 48,
   "metadata": {},
   "outputs": [
    {
     "name": "stdout",
     "output_type": "stream",
     "text": [
      "<class 'pandas.core.frame.DataFrame'>\n",
      "DatetimeIndex: 294 entries, 2018-01-02 to 2019-03-05\n",
      "Data columns (total 6 columns):\n",
      "High         294 non-null float64\n",
      "Low          294 non-null float64\n",
      "Open         294 non-null float64\n",
      "Close        294 non-null float64\n",
      "Volume       294 non-null int64\n",
      "Adj Close    294 non-null float64\n",
      "dtypes: float64(5), int64(1)\n",
      "memory usage: 16.1 KB\n"
     ]
    }
   ],
   "source": [
    "df.info()"
   ]
  },
  {
   "cell_type": "markdown",
   "metadata": {},
   "source": [
    "## 資料視覺化\n",
    "\n",
    "Series 跟 DataFrame 都附帶有一個產生各類圖表的 plot()，預設的情況下，它會產生線形圖。\n",
    "\n",
    "參考資料：[Pandas Plotting](http://pandas.pydata.org/pandas-docs/stable/visualization.html)"
   ]
  },
  {
   "cell_type": "code",
   "execution_count": null,
   "metadata": {},
   "outputs": [],
   "source": [
    "s = pd.Series(np.random.randn(10), index=np.arange(10))\n",
    "s.plot()"
   ]
  },
  {
   "cell_type": "code",
   "execution_count": null,
   "metadata": {},
   "outputs": [],
   "source": [
    "s.plot(kind=\"bar\")"
   ]
  },
  {
   "cell_type": "code",
   "execution_count": null,
   "metadata": {},
   "outputs": [],
   "source": [
    "df = pd.DataFrame(np.random.randn(10, 4), columns=list('ABCD'))\n",
    "df.plot()"
   ]
  },
  {
   "cell_type": "code",
   "execution_count": null,
   "metadata": {},
   "outputs": [],
   "source": [
    "df.plot(kind='bar')"
   ]
  }
 ],
 "metadata": {
  "anaconda-cloud": {},
  "kernelspec": {
   "display_name": "Python 3",
   "language": "python",
   "name": "python3"
  },
  "language_info": {
   "codemirror_mode": {
    "name": "ipython",
    "version": 3
   },
   "file_extension": ".py",
   "mimetype": "text/x-python",
   "name": "python",
   "nbconvert_exporter": "python",
   "pygments_lexer": "ipython3",
   "version": "3.7.1"
  }
 },
 "nbformat": 4,
 "nbformat_minor": 2
}
